{
 "cells": [
  {
   "cell_type": "code",
   "execution_count": 1,
   "metadata": {},
   "outputs": [],
   "source": [
    "import sys\n",
    "sys.dont_write_bytecode = True\n",
    "\n",
    "import h5py\n",
    "import numpy as np\n",
    "import pandas as pd\n",
    "from pprint import pprint\n",
    "import matplotlib.pyplot as plt\n",
    "\n",
    "from pyprojroot import here\n",
    "root=here(project_files=[\".here\"])\n",
    "sys.path.append(str(root))\n",
    "import src.utils as utils"
   ]
  },
  {
   "cell_type": "markdown",
   "metadata": {},
   "source": [
    "# Read files"
   ]
  },
  {
   "cell_type": "code",
   "execution_count": 2,
   "metadata": {},
   "outputs": [],
   "source": [
    "plot_mesh_file = \"../../../test_sims/sim6/outputs/plot_mesh.h5\"\n",
    "f_plot_mesh = h5py.File(plot_mesh_file, 'r')\n",
    "\n",
    "plot_data_file = \"../../../test_sims/sim6/outputs/plot_data.h5\"\n",
    "f_plot_data = h5py.File(plot_data_file, 'r')"
   ]
  },
  {
   "cell_type": "markdown",
   "metadata": {},
   "source": [
    "# Viewing the file contents"
   ]
  },
  {
   "cell_type": "code",
   "execution_count": 3,
   "metadata": {},
   "outputs": [
    {
     "name": "stdout",
     "output_type": "stream",
     "text": [
      "--- plot_mesh.h5 ---\n",
      "     ElementMap => (1849039, 1)\n",
      "  MixedElements => (12943273, 1)\n",
      "        NodeMap => (982998, 1)\n",
      "          Nodes => (982998, 3)\n",
      "\n",
      "\n",
      "--- plot_data.h5 ---\n",
      "darcy_velocity.cell.0    \tdarcy_velocity.cell.1    \tdarcy_velocity.cell.2    \t\n",
      "hydraulic_head.cell.0    \tmass_density_liquid.cell.0\tmolar_density_liquid.cell.0\t\n",
      "permeability.cell.0      \tpermeability.cell.1      \tpermeability.cell.2      \t\n",
      "porosity.cell.0          \tpressure.cell.0          \tprev_saturation_liquid.cell.0\t\n",
      "prev_water_content.cell.0\tsaturation_liquid.cell.0 \ttotal_component_concentration.cell.Tritium conc\t\n",
      "viscosity_liquid.cell.0  \twater_content.cell.0     \t                         \t\n"
     ]
    }
   ],
   "source": [
    "print(\"--- plot_mesh.h5 ---\")\n",
    "for k in f_plot_mesh['95/Mesh']:\n",
    "    print(f\"{k: >15} => {f_plot_mesh['95/Mesh'][k].shape}\")\n",
    "    \n",
    "print(\"\\n\\n--- plot_data.h5 ---\")\n",
    "utils.lprint(list(f_plot_data.keys()), col_width=25)"
   ]
  },
  {
   "cell_type": "markdown",
   "metadata": {},
   "source": [
    "# Assigning variables"
   ]
  },
  {
   "cell_type": "code",
   "execution_count": 4,
   "metadata": {},
   "outputs": [
    {
     "name": "stdout",
     "output_type": "stream",
     "text": [
      "         elementMap: (1849039, 1)\n",
      "      mixedElements: (12943273, 1)\n",
      "            nodeMap: (982998, 1)\n",
      "              nodes: (982998, 3)\n"
     ]
    }
   ],
   "source": [
    "elementMap = f_plot_mesh['95/Mesh/ElementMap']\n",
    "mixedElements = f_plot_mesh['95/Mesh/MixedElements']\n",
    "nodeMap = f_plot_mesh['95/Mesh/NodeMap']\n",
    "nodes = f_plot_mesh['95/Mesh/Nodes']\n",
    "\n",
    "print(f\"{'elementMap:':>20}\", elementMap.shape)\n",
    "print(f\"{'mixedElements:':>20}\", mixedElements.shape)\n",
    "print(f\"{'nodeMap:':>20}\", nodeMap.shape)\n",
    "print(f\"{'nodes:':>20}\", nodes.shape)"
   ]
  },
  {
   "cell_type": "markdown",
   "metadata": {},
   "source": [
    "# Exploration"
   ]
  },
  {
   "cell_type": "code",
   "execution_count": 5,
   "metadata": {},
   "outputs": [],
   "source": [
    "num_prisms = num_elements = len(elementMap)"
   ]
  },
  {
   "cell_type": "code",
   "execution_count": 6,
   "metadata": {},
   "outputs": [
    {
     "data": {
      "text/plain": [
       "array([8.93884212e-21, 8.93948589e-21, 8.93924895e-21, 8.93871223e-21,\n",
       "       8.93863301e-21])"
      ]
     },
     "execution_count": 6,
     "metadata": {},
     "output_type": "execute_result"
    }
   ],
   "source": [
    "np.squeeze(f_plot_data['total_component_concentration.cell.Tritium conc']['117'])[:5]"
   ]
  }
 ],
 "metadata": {
  "kernelspec": {
   "display_name": "Python 3.7",
   "language": "python",
   "name": "python3"
  },
  "language_info": {
   "codemirror_mode": {
    "name": "ipython",
    "version": 3
   },
   "file_extension": ".py",
   "mimetype": "text/x-python",
   "name": "python",
   "nbconvert_exporter": "python",
   "pygments_lexer": "ipython3",
   "version": "3.7.4"
  }
 },
 "nbformat": 4,
 "nbformat_minor": 4
}
