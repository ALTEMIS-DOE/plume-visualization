{
 "cells": [
  {
   "cell_type": "code",
   "execution_count": 10,
   "metadata": {},
   "outputs": [],
   "source": [
    "import h5py\n",
    "import numpy as np\n",
    "from pprint import pprint\n",
    "import matplotlib.pyplot as plt\n",
    "\n",
    "import utils"
   ]
  },
  {
   "cell_type": "markdown",
   "metadata": {},
   "source": [
    "## Read file"
   ]
  },
  {
   "cell_type": "code",
   "execution_count": 14,
   "metadata": {},
   "outputs": [],
   "source": [
    "plot_data_file = \"../../test_sims/sim6/outputs/plot_data.h5\"\n",
    "f_data = h5py.File(plot_data_file, 'r')"
   ]
  },
  {
   "cell_type": "markdown",
   "metadata": {},
   "source": [
    "## Scientific variables"
   ]
  },
  {
   "cell_type": "code",
   "execution_count": 15,
   "metadata": {},
   "outputs": [
    {
     "name": "stdout",
     "output_type": "stream",
     "text": [
      "darcy_velocity.cell.0    \tdarcy_velocity.cell.1    \tdarcy_velocity.cell.2    \t\n",
      "hydraulic_head.cell.0    \tmass_density_liquid.cell.0\tmolar_density_liquid.cell.0\t\n",
      "permeability.cell.0      \tpermeability.cell.1      \tpermeability.cell.2      \t\n",
      "porosity.cell.0          \tpressure.cell.0          \tprev_saturation_liquid.cell.0\t\n",
      "prev_water_content.cell.0\tsaturation_liquid.cell.0 \ttotal_component_concentration.cell.Tritium conc\t\n"
     ]
    }
   ],
   "source": [
    "# Scientific information\n",
    "utils.lprint(list(f_data.keys()), col_width=25)"
   ]
  },
  {
   "cell_type": "markdown",
   "metadata": {},
   "source": [
    "## Cycles"
   ]
  },
  {
   "cell_type": "code",
   "execution_count": 24,
   "metadata": {},
   "outputs": [
    {
     "name": "stdout",
     "output_type": "stream",
     "text": [
      "117       \t120       \t122       \t123       \t124       \t\n",
      "125       \t126       \t127       \t128       \t129       \t\n",
      "130       \t131       \t132       \t133       \t134       \t\n",
      "135       \t136       \t137       \t138       \t95ic      \t\n",
      "Number of cycles: 20\n"
     ]
    }
   ],
   "source": [
    "# Cycles\n",
    "utils.lprint(list(f_data['total_component_concentration.cell.Tritium conc'].keys()), ncols=5, col_width=10)\n",
    "\n",
    "print(\"Number of cycles:\", len(f_data['total_component_concentration.cell.Tritium conc']))"
   ]
  },
  {
   "cell_type": "markdown",
   "metadata": {},
   "source": [
    "## Exploration"
   ]
  },
  {
   "cell_type": "code",
   "execution_count": 26,
   "metadata": {},
   "outputs": [
    {
     "name": "stdout",
     "output_type": "stream",
     "text": [
      "       117 => (1849039, 1) => min: 8.91537916498304e-21           => max: 2.1424317788560577e-09        \n",
      "       120 => (1849039, 1) => min: 8.432868589230029e-21          => max: 2.134949449217124e-09         \n",
      "       122 => (1849039, 1) => min: 7.967776937450845e-21          => max: 2.1426897620556103e-09        \n",
      "       123 => (1849039, 1) => min: 7.555373242361468e-21          => max: 2.1412204198822885e-09        \n",
      "       124 => (1849039, 1) => min: 7.123937853463458e-21          => max: 2.1412195292505966e-09        \n",
      "       125 => (1849039, 1) => min: 6.7363992704900225e-21         => max: 2.1412191359322348e-09        \n",
      "       126 => (1849039, 1) => min: 6.376125020967609e-21          => max: 2.1412189190172452e-09        \n",
      "       127 => (1849039, 1) => min: 6.035855300978501e-21          => max: 2.1412188366673356e-09        \n",
      "       128 => (1849039, 1) => min: 5.714132718847578e-21          => max: 2.141218747985058e-09         \n",
      "       129 => (1849039, 1) => min: 5.405266168439752e-21          => max: 2.141218715912094e-09         \n",
      "       130 => (1849039, 1) => min: 5.111513625658205e-21          => max: 2.1412186986811935e-09        \n",
      "       131 => (1849039, 1) => min: 4.8337255305542975e-21         => max: 2.141218688425956e-09         \n",
      "       132 => (1849039, 1) => min: 4.571034470729347e-21          => max: 2.141218682504085e-09         \n",
      "       133 => (1849039, 1) => min: 4.3226199734171616e-21         => max: 2.1412186792448264e-09        \n",
      "       134 => (1849039, 1) => min: 4.087691787030437e-21          => max: 2.1412186754097768e-09        \n",
      "       135 => (1849039, 1) => min: 3.8655386876897934e-21         => max: 2.1412186737395047e-09        \n",
      "       136 => (1849039, 1) => min: 3.6554649764815836e-21         => max: 2.141218673667213e-09         \n",
      "       137 => (1849039, 1) => min: 3.456792090546456e-21          => max: 2.1412186727071986e-09        \n",
      "       138 => (1849039, 1) => min: 3.2689283701295768e-21         => max: 2.141218672777223e-09         \n",
      "      95ic => (1849039, 1) => min: 1.0000000000000001e-20         => max: 1.0000000000000001e-20        \n"
     ]
    }
   ],
   "source": [
    "for k in f_data['total_component_concentration.cell.Tritium conc']:\n",
    "    print(f\"{k:>10} => {f_data['total_component_concentration.cell.Tritium conc'][k].shape} => min: {np.min(f_data['total_component_concentration.cell.Tritium conc'][k]): <30} => max: {np.max(f_data['total_component_concentration.cell.Tritium conc'][k]): <30}\")"
   ]
  },
  {
   "cell_type": "code",
   "execution_count": null,
   "metadata": {},
   "outputs": [],
   "source": []
  }
 ],
 "metadata": {
  "kernelspec": {
   "display_name": "Python 3.7",
   "language": "python",
   "name": "python3"
  },
  "language_info": {
   "codemirror_mode": {
    "name": "ipython",
    "version": 3
   },
   "file_extension": ".py",
   "mimetype": "text/x-python",
   "name": "python",
   "nbconvert_exporter": "python",
   "pygments_lexer": "ipython3",
   "version": "3.7.4"
  }
 },
 "nbformat": 4,
 "nbformat_minor": 4
}
