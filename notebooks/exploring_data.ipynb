{
 "cells": [
  {
   "cell_type": "code",
   "execution_count": 7,
   "metadata": {},
   "outputs": [],
   "source": [
    "import sys\n",
    "sys.dont_write_bytecode = True\n",
    "\n",
    "from pyprojroot import here\n",
    "root=here(project_files=[\".here\"])\n",
    "sys.path.append(str(root))\n",
    "\n",
    "import h5py\n",
    "import numpy as np\n",
    "from pprint import pprint\n",
    "import matplotlib.pyplot as plt\n",
    "\n",
    "import src.utils as utils"
   ]
  },
  {
   "cell_type": "markdown",
   "metadata": {},
   "source": [
    "## Read file"
   ]
  },
  {
   "cell_type": "code",
   "execution_count": 8,
   "metadata": {},
   "outputs": [],
   "source": [
    "plot_data_file = \"../../../test_sims/sim7/outputs/plot_data.h5\"\n",
    "f_data = h5py.File(plot_data_file, 'r')"
   ]
  },
  {
   "cell_type": "markdown",
   "metadata": {},
   "source": [
    "## Scientific variables"
   ]
  },
  {
   "cell_type": "code",
   "execution_count": 9,
   "metadata": {},
   "outputs": [
    {
     "name": "stdout",
     "output_type": "stream",
     "text": [
      "darcy_velocity.cell.0    \tdarcy_velocity.cell.1    \tdarcy_velocity.cell.2    \t\n",
      "hydraulic_head.cell.0    \tmass_density_liquid.cell.0\tmolar_density_liquid.cell.0\t\n",
      "permeability.cell.0      \tpermeability.cell.1      \tpermeability.cell.2      \t\n",
      "porosity.cell.0          \tpressure.cell.0          \tprev_saturation_liquid.cell.0\t\n",
      "prev_water_content.cell.0\tsaturation_liquid.cell.0 \ttotal_component_concentration.cell.Tritium\t\n",
      "viscosity_liquid.cell.0  \twater_content.cell.0     \t                         \t\n"
     ]
    }
   ],
   "source": [
    "# Scientific information\n",
    "utils.lprint(list(f_data.keys()), col_width=25)"
   ]
  },
  {
   "cell_type": "markdown",
   "metadata": {},
   "source": [
    "## Cycles"
   ]
  },
  {
   "cell_type": "code",
   "execution_count": 11,
   "metadata": {},
   "outputs": [
    {
     "name": "stdout",
     "output_type": "stream",
     "text": [
      "117       \t120       \t122       \t123       \t124       \t\n",
      "125       \t126       \t127       \t128       \t129       \t\n",
      "130       \t131       \t132       \t133       \t134       \t\n",
      "135       \t136       \t137       \t138       \t95ic      \t\n",
      "Number of cycles: 20\n"
     ]
    }
   ],
   "source": [
    "# Cycles\n",
    "utils.lprint(list(f_data['total_component_concentration.cell.Tritium'].keys()), ncols=5, col_width=10)\n",
    "\n",
    "print(\"Number of cycles:\", len(f_data['total_component_concentration.cell.Tritium']))"
   ]
  },
  {
   "cell_type": "markdown",
   "metadata": {},
   "source": [
    "## Exploration"
   ]
  },
  {
   "cell_type": "code",
   "execution_count": 12,
   "metadata": {},
   "outputs": [
    {
     "name": "stdout",
     "output_type": "stream",
     "text": [
      "       117 => (1849039, 1) => min: 8.915379167641123e-21          => max: 2.142431778856075e-09         \n",
      "       120 => (1849039, 1) => min: 8.432868582403478e-21          => max: 2.134949449217099e-09         \n",
      "       122 => (1849039, 1) => min: 7.967776942056662e-21          => max: 2.142689762055628e-09         \n",
      "       123 => (1849039, 1) => min: 7.555373240971293e-21          => max: 2.141220419882265e-09         \n",
      "       124 => (1849039, 1) => min: 7.123937852335709e-21          => max: 2.1412195292506086e-09        \n",
      "       125 => (1849039, 1) => min: 6.736399271287124e-21          => max: 2.141219135932262e-09         \n",
      "       126 => (1849039, 1) => min: 6.376125021390609e-21          => max: 2.141218919017252e-09         \n",
      "       127 => (1849039, 1) => min: 6.035855301038468e-21          => max: 2.1412188366673435e-09        \n",
      "       128 => (1849039, 1) => min: 5.71413271879217e-21           => max: 2.141218747985064e-09         \n",
      "       129 => (1849039, 1) => min: 5.405266168301818e-21          => max: 2.1412187159121225e-09        \n",
      "       130 => (1849039, 1) => min: 5.111513625837549e-21          => max: 2.1412186986812158e-09        \n",
      "       131 => (1849039, 1) => min: 4.833725530538846e-21          => max: 2.1412186884260014e-09        \n",
      "       132 => (1849039, 1) => min: 4.571034470712574e-21          => max: 2.1412186825040983e-09        \n",
      "       133 => (1849039, 1) => min: 4.3226199734134805e-21         => max: 2.141218679244856e-09         \n",
      "       134 => (1849039, 1) => min: 4.087691786969966e-21          => max: 2.1412186754097565e-09        \n",
      "       135 => (1849039, 1) => min: 3.8655386876758154e-21         => max: 2.141218673739554e-09         \n",
      "       136 => (1849039, 1) => min: 3.655464976420759e-21          => max: 2.1412186736672104e-09        \n",
      "       137 => (1849039, 1) => min: 3.456792090462076e-21          => max: 2.141218672707204e-09         \n",
      "       138 => (1849039, 1) => min: 3.2689283701348155e-21         => max: 2.141218672777247e-09         \n",
      "      95ic => (1849039, 1) => min: 1e-20                          => max: 1e-20                         \n"
     ]
    }
   ],
   "source": [
    "for k in f_data['total_component_concentration.cell.Tritium']:\n",
    "    print(f\"{k:>10} => {f_data['total_component_concentration.cell.Tritium'][k].shape} => min: {np.min(f_data['total_component_concentration.cell.Tritium'][k]): <30} => max: {np.max(f_data['total_component_concentration.cell.Tritium'][k]): <30}\")"
   ]
  },
  {
   "cell_type": "code",
   "execution_count": null,
   "metadata": {},
   "outputs": [],
   "source": []
  }
 ],
 "metadata": {
  "kernelspec": {
   "display_name": "Python 3.7",
   "language": "python",
   "name": "python3"
  },
  "language_info": {
   "codemirror_mode": {
    "name": "ipython",
    "version": 3
   },
   "file_extension": ".py",
   "mimetype": "text/x-python",
   "name": "python",
   "nbconvert_exporter": "python",
   "pygments_lexer": "ipython3",
   "version": "3.7.4"
  }
 },
 "nbformat": 4,
 "nbformat_minor": 4
}
